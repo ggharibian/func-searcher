{
 "cells": [
  {
   "cell_type": "code",
   "execution_count": 1,
   "metadata": {},
   "outputs": [
    {
     "name": "stderr",
     "output_type": "stream",
     "text": [
      "/usr/lib/python3/dist-packages/requests/__init__.py:89: RequestsDependencyWarning: urllib3 (1.26.15) or chardet (3.0.4) doesn't match a supported version!\n",
      "  warnings.warn(\"urllib3 ({}) or chardet ({}) doesn't match a supported \"\n"
     ]
    }
   ],
   "source": [
    "import random\n",
    "import json\n",
    "from gensim.models import Word2Vec \n",
    "import numpy as np\n",
    "from scipy import spatial"
   ]
  },
  {
   "cell_type": "code",
   "execution_count": 2,
   "metadata": {},
   "outputs": [],
   "source": [
    "with open('./index/file_key.txt', 'r') as f:\n",
    "    id_to_f = json.loads(f.read())['id-to-f']\n",
    "with open('./index/file_key.txt', 'r') as f:\n",
    "    f_to_id = json.loads(f.read())['f-to-id']\n"
   ]
  },
  {
   "cell_type": "code",
   "execution_count": 18,
   "metadata": {},
   "outputs": [],
   "source": [
    "def get_tokens(fname):\n",
    "    return fname.split('|')[1].replace('_','.').split('.')"
   ]
  },
  {
   "cell_type": "code",
   "execution_count": 19,
   "metadata": {},
   "outputs": [],
   "source": [
    "sentences = []\n",
    "for f in id_to_f:\n",
    "    sentences.append(get_tokens(f))"
   ]
  },
  {
   "cell_type": "code",
   "execution_count": 10,
   "metadata": {},
   "outputs": [
    {
     "data": {
      "text/plain": [
       "(771314, 1189950)"
      ]
     },
     "execution_count": 10,
     "metadata": {},
     "output_type": "execute_result"
    }
   ],
   "source": [
    "model = Word2Vec(window = 4, min_count = 3, vector_size = 100)\n",
    "model.build_vocab(corpus_iterable=sentences)\n",
    "model.train(corpus_iterable=sentences, total_examples=len(sentences), epochs=15)"
   ]
  },
  {
   "cell_type": "code",
   "execution_count": 20,
   "metadata": {},
   "outputs": [],
   "source": [
    "N = len(sentences)\n",
    "vec_length = 100\n",
    "vec_mat = np.zeros((N, vec_length))\n",
    "for i, f in enumerate(id_to_f):\n",
    "    f_vec = np.mean(np.asarray([model.wv[t] if t in model.wv else np.zeros(vec_length) for t in get_tokens(f)]), axis=0)\n",
    "    vec_mat[i] = f_vec"
   ]
  },
  {
   "cell_type": "code",
   "execution_count": 21,
   "metadata": {},
   "outputs": [],
   "source": [
    "tree = spatial.KDTree(vec_mat)"
   ]
  },
  {
   "cell_type": "code",
   "execution_count": 24,
   "metadata": {},
   "outputs": [
    {
     "name": "stdout",
     "output_type": "stream",
     "text": [
      "scikit-learn/sklearn/base.json|estimator.get_params ['sklearn.pipeline.make_pipeline|estimator.get_params', 'sklearn.ensemble.ExtraTreesClassifier|estimator.get_params', 'scikit-learn/sklearn/utils/_testing.json|estimator.get_params', 'sklearn.utils.estimator_checks._construct_instance|estimator.get_params', 'sklearn.tree.DecisionTreeClassifier|estimator.get_params']\n",
      "\n",
      "GaussianProcessRegressor|gpr_norm.predict ['GaussianProcessRegressor|gpr_norm.predict', 'sklearn.gaussian_process.GaussianProcessRegressor|gpr_2d.predict', 'GaussianProcessRegressor|gpr_2d.predict', 'sklearn.gaussian_process.GaussianProcessRegressor|gpr_equal_inputs.predict', 'GaussianProcessRegressor|gpr_equal_inputs.predict']\n",
      "\n",
      "ConfusionMatrixDisplay|disp.im_.get_array ['sklearn.metrics.ConfusionMatrixDisplay|disp.im_.get_array', 'GridSearchCV|cv._get_tags', 'sklearn.model_selection.GridSearchCV|cv._get_tags', 'sklearn.utils.estimator_checks._construct_instance|est._get_tags', '_construct_instance|est._get_tags']\n",
      "\n",
      "scikit-learn/sklearn/metrics/tests/test_common.json|test_sample_order_invariance ['scikit-learn/sklearn/ensemble/tests/test_weight_boosting.json|test_sample_weights_infinite', 'scikit-learn/sklearn/linear_model/tests/test_sgd.json|test_wrong_sample_weights', 'scikit-learn/sklearn/utils/tests/test_random.json|test_invalid_sample_without_replacement_algorithm', 'scikit-learn/sklearn/utils/tests/test_random.json|test_sample_without_replacement_algorithms', 'scikit-learn/sklearn/neural_network/tests/test_rbm.json|test_sample_hiddens']\n",
      "\n",
      "sklearn.ensemble.GradientBoostingRegressor|gbrt.decision_function ['sklearn.multiclass.OneVsRestClassifier|clf.decision_function', 'scikit-learn/sklearn/ensemble/_gb.json|staged_decision_function', 'sklearn.model_selection.GridSearchCV|clf.decision_function', 'IsolationForest|clf2.decision_function', 'scikit-learn/sklearn/svm/tests/test_svm.json|svc1.decision_function']\n",
      "\n"
     ]
    }
   ],
   "source": [
    "\n",
    "for k in random.sample(f_to_id.keys(), 5):\n",
    "    lookup = vec_mat[f_to_id[k]]\n",
    "    print(k, [id_to_f[id] for id in tree.query(lookup, k=6)[1][1:]])\n",
    "    print('')"
   ]
  },
  {
   "cell_type": "code",
   "execution_count": null,
   "metadata": {},
   "outputs": [],
   "source": []
  }
 ],
 "metadata": {
  "interpreter": {
   "hash": "916dbcbb3f70747c44a77c7bcd40155683ae19c65e1c03b4aa3499c5328201f1"
  },
  "kernelspec": {
   "display_name": "Python 3.8.10 64-bit",
   "language": "python",
   "name": "python3"
  },
  "language_info": {
   "codemirror_mode": {
    "name": "ipython",
    "version": 3
   },
   "file_extension": ".py",
   "mimetype": "text/x-python",
   "name": "python",
   "nbconvert_exporter": "python",
   "pygments_lexer": "ipython3",
   "version": "3.8.10"
  },
  "orig_nbformat": 4
 },
 "nbformat": 4,
 "nbformat_minor": 2
}
