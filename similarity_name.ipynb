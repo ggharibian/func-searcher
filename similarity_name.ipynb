{
 "cells": [
  {
   "cell_type": "code",
   "execution_count": 38,
   "metadata": {},
   "outputs": [],
   "source": [
    "import random\n",
    "import json\n",
    "from gensim.models import Word2Vec \n",
    "import numpy as np\n",
    "from scipy import spatial"
   ]
  },
  {
   "cell_type": "code",
   "execution_count": 43,
   "metadata": {},
   "outputs": [],
   "source": [
    "with open('./index/file_key.txt', 'r') as f:\n",
    "    id_to_f = json.loads(f.read())['id-to-f']\n",
    "with open('./index/file_key.txt', 'r') as f:\n",
    "    f_to_id = json.loads(f.read())['f-to-id']\n"
   ]
  },
  {
   "cell_type": "code",
   "execution_count": 44,
   "metadata": {},
   "outputs": [],
   "source": [
    "def get_tokens(fname):\n",
    "    return fname.split('|')[0].split('_')"
   ]
  },
  {
   "cell_type": "code",
   "execution_count": 45,
   "metadata": {},
   "outputs": [],
   "source": [
    "sentences = []\n",
    "for f in id_to_f:\n",
    "    sentences.append(get_tokens(f))"
   ]
  },
  {
   "cell_type": "code",
   "execution_count": 46,
   "metadata": {},
   "outputs": [
    {
     "data": {
      "text/plain": [
       "(651518, 833415)"
      ]
     },
     "execution_count": 46,
     "metadata": {},
     "output_type": "execute_result"
    }
   ],
   "source": [
    "model = Word2Vec(window = 4, min_count = 3, vector_size = 100)\n",
    "model.build_vocab(corpus_iterable=sentences)\n",
    "model.train(corpus_iterable=sentences, total_examples=len(sentences), epochs=15)"
   ]
  },
  {
   "cell_type": "code",
   "execution_count": 47,
   "metadata": {},
   "outputs": [],
   "source": [
    "N = len(sentences)\n",
    "vec_length = 100\n",
    "vec_mat = np.zeros((N, vec_length))\n",
    "for i, f in enumerate(id_to_f):\n",
    "    f_vec = np.mean(np.asarray([model.wv[t] if t in model.wv else np.zeros(vec_length) for t in get_tokens(f)]), axis=0)\n",
    "    vec_mat[i] = f_vec"
   ]
  },
  {
   "cell_type": "code",
   "execution_count": 48,
   "metadata": {},
   "outputs": [],
   "source": [
    "tree = spatial.KDTree(vec_mat)"
   ]
  },
  {
   "cell_type": "code",
   "execution_count": 50,
   "metadata": {},
   "outputs": [
    {
     "name": "stdout",
     "output_type": "stream",
     "text": [
      "sklearn.ensemble.IsolationForest|iforest.fit ['sklearn.ensemble.IsolationForest|clf2.score_samples', 'sklearn.ensemble.IsolationForest|clf.decision_function', 'sklearn.ensemble.IsolationForest|clf.fit', 'sklearn.ensemble.IsolationForest|dense_classifier.predict', 'sklearn.ensemble.IsolationForest|clf1.score_samples']\n",
      "scikit-learn/sklearn/utils/tests/test_sparsefuncs.json|min_func ['scikit-learn/sklearn/utils/tests/test_sparsefuncs.json|scale.astype', 'scikit-learn/sklearn/utils/tests/test_sparsefuncs.json|scale.reshape', 'scikit-learn/sklearn/utils/tests/test_sparsefuncs.json|min_func', 'scikit-learn/sklearn/utils/tests/test_sparsefuncs.json|toarray', 'scikit-learn/sklearn/utils/tests/test_sparsefuncs.json|swap']\n",
      "scikit-learn/sklearn/semi_supervised/tests/test_self_training.json|test_verbose_k_best ['scikit-learn/sklearn/semi_supervised/tests/test_self_training.json|test_k_best', 'scikit-learn/sklearn/semi_supervised/tests/test_self_training.json|test_sanity_classification', 'scikit-learn/sklearn/semi_supervised/tests/test_self_training.json|test_none_iter', 'scikit-learn/sklearn/semi_supervised/tests/test_self_training.json|test_warns_k_best', 'scikit-learn/sklearn/semi_supervised/tests/test_self_training.json|test_early_stopping']\n",
      "sklearn.kernel_approximation.RBFSampler|rbf64.fit ['sklearn.kernel_approximation.RBFSampler|rbf32.fit', 'sklearn.kernel_approximation.RBFSampler|rbf_transform.transform', 'sklearn.kernel_approximation.RBFSampler|rbf.fit', 'sklearn.kernel_approximation.RBFSampler|rbf_transform.fit_transform', 'sklearn.kernel_approximation.RBFSampler|RBFSampler']\n",
      "scikit-learn/sklearn/model_selection/tests/test_validation.json|test_cross_val_score_failing_scorer ['scikit-learn/sklearn/model_selection/tests/test_validation.json|test_cross_val_score_with_score_func_regression', 'scikit-learn/sklearn/model_selection/tests/test_validation.json|test_cross_val_score_with_score_func_classification', 'scikit-learn/sklearn/model_selection/tests/test_validation.json|BrokenEstimator', 'scikit-learn/sklearn/model_selection/tests/test_validation.json|test_cross_val_score_errors', 'scikit-learn/sklearn/model_selection/tests/test_validation.json|test_cross_val_score_sparse_fit_params']\n"
     ]
    }
   ],
   "source": [
    "\n",
    "for k in random.sample(f_to_id.keys(), 5):\n",
    "    lookup = vec_mat[f_to_id[k]]\n",
    "    print(k, [id_to_f[id] for id in tree.query(lookup, k=6)[1][1:]])"
   ]
  }
 ],
 "metadata": {
  "interpreter": {
   "hash": "916dbcbb3f70747c44a77c7bcd40155683ae19c65e1c03b4aa3499c5328201f1"
  },
  "kernelspec": {
   "display_name": "Python 3.8.10 64-bit",
   "language": "python",
   "name": "python3"
  },
  "language_info": {
   "codemirror_mode": {
    "name": "ipython",
    "version": 3
   },
   "file_extension": ".py",
   "mimetype": "text/x-python",
   "name": "python",
   "nbconvert_exporter": "python",
   "pygments_lexer": "ipython3",
   "version": "3.8.10"
  },
  "orig_nbformat": 4
 },
 "nbformat": 4,
 "nbformat_minor": 2
}
