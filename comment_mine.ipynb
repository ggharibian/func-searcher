{
 "cells": [
  {
   "cell_type": "code",
   "execution_count": 12,
   "metadata": {},
   "outputs": [],
   "source": [
    "import tokenize\n",
    "import json"
   ]
  },
  {
   "cell_type": "code",
   "execution_count": 13,
   "metadata": {},
   "outputs": [],
   "source": [
    "FILEPATH='./raw/scikit-learn/sklearn/decomposition/_factor_analysis.py'"
   ]
  },
  {
   "cell_type": "code",
   "execution_count": 14,
   "metadata": {},
   "outputs": [],
   "source": [
    "comment_list = []\n",
    "with open(FILEPATH, 'rb') as f:\n",
    "    for tok in tokenize.tokenize(f.readline):\n",
    "        if tok.type == 3:\n",
    "            comment_list.append((tok.start[0], tok.end[0], tok.string))"
   ]
  },
  {
   "cell_type": "code",
   "execution_count": 19,
   "metadata": {},
   "outputs": [],
   "source": [
    "with open('./index/scikit-learn/sklearn/decomposition/_factor_analysis.json', 'r') as f:\n",
    "    file_content = json.loads(f.read())\n",
    "ln_fdef = {}\n",
    "function_params = {}\n",
    "for fd in file_content['FunctionDef']:\n",
    "    for ln in file_content['FunctionDef'][fd]['lineno']:\n",
    "        if ln not in ln_fdef:\n",
    "            ln_fdef[ln] = []\n",
    "        ln_fdef[ln].append(fd)\n",
    "    function_params[fd] = file_content['FunctionDef'][fd]['params']"
   ]
  },
  {
   "cell_type": "code",
   "execution_count": 20,
   "metadata": {},
   "outputs": [],
   "source": [
    "cfunc_pairs = []\n",
    "for clns, clne, cs in comment_list:\n",
    "    if clns-1 in ln_fdef:\n",
    "        for f in ln_fdef[clns-1]:\n",
    "            cfunc_pairs.append((f, cs))\n",
    "    if clne+1 in ln_fdef:\n",
    "        for f in ln_fdef[clne+1]:\n",
    "            cfunc_pairs.append((f, cs))"
   ]
  },
  {
   "cell_type": "code",
   "execution_count": 21,
   "metadata": {},
   "outputs": [
    {
     "name": "stdout",
     "output_type": "stream",
     "text": [
      "['self', 'X', 'y']\n",
      "\"\"\"Fit the FactorAnalysis model to X using SVD based approach.\n",
      "\n",
      "        Parameters\n",
      "        ----------\n",
      "        X : array-like of shape (n_samples, n_features)\n",
      "            Training data.\n",
      "\n",
      "        y : Ignored\n",
      "            Ignored parameter.\n",
      "\n",
      "        Returns\n",
      "        -------\n",
      "        self : object\n",
      "            FactorAnalysis class instance.\n",
      "        \"\"\"\n",
      "['self', 'X']\n",
      "\"\"\"Apply dimensionality reduction to X using the model.\n",
      "\n",
      "        Compute the expected mean of the latent variables.\n",
      "        See Barber, 21.2.33 (or Bishop, 12.66).\n",
      "\n",
      "        Parameters\n",
      "        ----------\n",
      "        X : array-like of shape (n_samples, n_features)\n",
      "            Training data.\n",
      "\n",
      "        Returns\n",
      "        -------\n",
      "        X_new : ndarray of shape (n_samples, n_components)\n",
      "            The latent variables of X.\n",
      "        \"\"\"\n",
      "['self']\n",
      "\"\"\"Compute data covariance with the FactorAnalysis model.\n",
      "\n",
      "        ``cov = components_.T * components_ + diag(noise_variance)``\n",
      "\n",
      "        Returns\n",
      "        -------\n",
      "        cov : ndarray of shape (n_features, n_features)\n",
      "            Estimated covariance of data.\n",
      "        \"\"\"\n",
      "['self']\n",
      "\"\"\"Compute data precision matrix with the FactorAnalysis model.\n",
      "\n",
      "        Returns\n",
      "        -------\n",
      "        precision : ndarray of shape (n_features, n_features)\n",
      "            Estimated precision of data.\n",
      "        \"\"\"\n",
      "['self', 'X']\n",
      "\"\"\"Compute the log-likelihood of each sample.\n",
      "\n",
      "        Parameters\n",
      "        ----------\n",
      "        X : ndarray of shape (n_samples, n_features)\n",
      "            The data.\n",
      "\n",
      "        Returns\n",
      "        -------\n",
      "        ll : ndarray of shape (n_samples,)\n",
      "            Log-likelihood of each sample under the current model.\n",
      "        \"\"\"\n",
      "['self', 'X', 'y']\n",
      "\"\"\"Compute the average log-likelihood of the samples.\n",
      "\n",
      "        Parameters\n",
      "        ----------\n",
      "        X : ndarray of shape (n_samples, n_features)\n",
      "            The data.\n",
      "\n",
      "        y : Ignored\n",
      "            Ignored parameter.\n",
      "\n",
      "        Returns\n",
      "        -------\n",
      "        ll : float\n",
      "            Average log-likelihood of the samples under the current model.\n",
      "        \"\"\"\n",
      "['self', 'components', 'n_components', 'tol']\n",
      "\"Rotate the factor analysis solution.\"\n",
      "['self']\n",
      "\"\"\"Number of transformed output features.\"\"\"\n",
      "['components', 'method', 'tol', 'max_iter']\n",
      "\"\"\"Return rotated components.\"\"\"\n"
     ]
    }
   ],
   "source": [
    "# Provides comment-function pairs\n",
    "for func, comment in cfunc_pairs:\n",
    "    print(function_params[func])\n",
    "    print(comment)"
   ]
  }
 ],
 "metadata": {
  "interpreter": {
   "hash": "e32f703e4b4aeee2270df2522a490ac6a60a6bb0e1bf2eab687b01239260a1c9"
  },
  "kernelspec": {
   "display_name": "Python 3.9.16 ('base')",
   "language": "python",
   "name": "python3"
  },
  "language_info": {
   "codemirror_mode": {
    "name": "ipython",
    "version": 3
   },
   "file_extension": ".py",
   "mimetype": "text/x-python",
   "name": "python",
   "nbconvert_exporter": "python",
   "pygments_lexer": "ipython3",
   "version": "3.8.10"
  },
  "orig_nbformat": 4
 },
 "nbformat": 4,
 "nbformat_minor": 2
}
