{
 "cells": [
  {
   "cell_type": "code",
   "execution_count": 94,
   "metadata": {},
   "outputs": [],
   "source": [
    "import os\n",
    "import json\n",
    "import pygments\n",
    "from gensim.models import Word2Vec \n",
    "import numpy as np\n",
    "from scipy import spatial"
   ]
  },
  {
   "cell_type": "code",
   "execution_count": 42,
   "metadata": {},
   "outputs": [],
   "source": [
    "with open('./index/file_key.txt', 'r') as f:\n",
    "    id_to_f = json.loads(f.read())['id-to-f']\n",
    "with open('./temp.json', 'r') as f:\n",
    "    function_defs = json.loads(f.read())"
   ]
  },
  {
   "cell_type": "code",
   "execution_count": 53,
   "metadata": {},
   "outputs": [],
   "source": [
    "\n",
    "class NameFormatter(pygments.formatter.Formatter):\n",
    "    def __init__(self):\n",
    "        self.names = []\n",
    "\n",
    "    def format(self, tokensource, outfile):\n",
    "        for _type, value in tokensource:\n",
    "            if _type[0] == \"Name\" or _type[0] == \"Keyword\":\n",
    "                self.names.append(value)\n",
    "    \n",
    "    def get_tok_arr(self):\n",
    "        return self.names"
   ]
  },
  {
   "cell_type": "code",
   "execution_count": 58,
   "metadata": {},
   "outputs": [],
   "source": [
    "f_to_toklist = {}\n",
    "sentences = []\n",
    "for f in function_defs:\n",
    "    with open(os.path.join('./raw', f.replace('.json', '.py'))) as fr:\n",
    "        line_arr = fr.readlines()\n",
    "        for fd in function_defs[f]:\n",
    "            for s, e in zip(function_defs[f][fd]['lineno'], function_defs[f][fd]['line-end']):\n",
    "                func_body = ''.join(line_arr[s:e+2])                   \n",
    "                formatter = NameFormatter()                               \n",
    "                pygments.highlight(func_body, pygments.lexers.PythonLexer(), formatter)\n",
    "                f_to_toklist[f\"{f}|{fd}\"] = formatter.get_tok_arr()\n",
    "                sentences.append(formatter.get_tok_arr())"
   ]
  },
  {
   "cell_type": "code",
   "execution_count": 62,
   "metadata": {},
   "outputs": [
    {
     "data": {
      "text/plain": [
       "(4837122, 6435855)"
      ]
     },
     "execution_count": 62,
     "metadata": {},
     "output_type": "execute_result"
    }
   ],
   "source": [
    "model = Word2Vec(window = 4, min_count = 3, vector_size = 30)\n",
    "model.build_vocab(corpus_iterable=sentences)\n",
    "model.train(corpus_iterable=sentences, total_examples=len(sentences), epochs=15)"
   ]
  },
  {
   "cell_type": "code",
   "execution_count": 92,
   "metadata": {},
   "outputs": [
    {
     "name": "stderr",
     "output_type": "stream",
     "text": [
      "/home/chirag/.local/lib/python3.8/site-packages/numpy/core/fromnumeric.py:3432: RuntimeWarning: Mean of empty slice.\n",
      "  return _methods._mean(a, axis=axis, dtype=dtype,\n",
      "/home/chirag/.local/lib/python3.8/site-packages/numpy/core/_methods.py:190: RuntimeWarning: invalid value encountered in double_scalars\n",
      "  ret = ret.dtype.type(ret / rcount)\n"
     ]
    }
   ],
   "source": [
    "N = len(sentences)\n",
    "vec_length = model.wv['float'].shape[0]\n",
    "vec_mat = np.zeros((N, vec_length))\n",
    "id_to_f = []\n",
    "f_to_id = {}\n",
    "for f in function_defs:\n",
    "    for fd in function_defs[f]:\n",
    "        fqname = f\"{f}|{fd}\"\n",
    "        f_vec = np.mean(np.asarray([model.wv[t] if t in model.wv else np.zeros(vec_length) for t in f_to_toklist[fqname]]), axis=0)\n",
    "        vec_mat[len(id_to_f)] = f_vec\n",
    "        f_to_id[fqname] = len(id_to_f)\n",
    "        id_to_f.append(fqname)\n",
    "        "
   ]
  },
  {
   "cell_type": "code",
   "execution_count": 95,
   "metadata": {},
   "outputs": [],
   "source": [
    "tree = spatial.KDTree(vec_mat)"
   ]
  },
  {
   "cell_type": "code",
   "execution_count": null,
   "metadata": {},
   "outputs": [],
   "source": []
  }
 ],
 "metadata": {
  "interpreter": {
   "hash": "916dbcbb3f70747c44a77c7bcd40155683ae19c65e1c03b4aa3499c5328201f1"
  },
  "kernelspec": {
   "display_name": "Python 3.8.10 64-bit",
   "language": "python",
   "name": "python3"
  },
  "language_info": {
   "codemirror_mode": {
    "name": "ipython",
    "version": 3
   },
   "file_extension": ".py",
   "mimetype": "text/x-python",
   "name": "python",
   "nbconvert_exporter": "python",
   "pygments_lexer": "ipython3",
   "version": "3.8.10"
  },
  "orig_nbformat": 4
 },
 "nbformat": 4,
 "nbformat_minor": 2
}
